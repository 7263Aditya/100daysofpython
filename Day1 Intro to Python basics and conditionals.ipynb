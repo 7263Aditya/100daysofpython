{
 "cells": [
  {
   "cell_type": "code",
   "execution_count": 1,
   "id": "43d8482d-7fa0-49bc-9797-265b917772ba",
   "metadata": {},
   "outputs": [
    {
     "name": "stdout",
     "output_type": "stream",
     "text": [
      "Hello World!\n"
     ]
    }
   ],
   "source": [
    "print(\"Hello World!\")"
   ]
  },
  {
   "cell_type": "code",
   "execution_count": 3,
   "id": "bd9c9ee0-da87-494b-b907-9869e59ab898",
   "metadata": {},
   "outputs": [
    {
     "name": "stdin",
     "output_type": "stream",
     "text": [
      "Enter the first number: 244342\n",
      "Enter the second number: 234523452\n"
     ]
    },
    {
     "name": "stdout",
     "output_type": "stream",
     "text": [
      "Addition of given two numbers is ::  234767794\n"
     ]
    }
   ],
   "source": [
    "num1 = int(input(\"Enter the first number:\"))\n",
    "num2 = int(input(\"Enter the second number:\"))\n",
    "addition  = num1 + num2\n",
    "print(\"Addition of given two numbers is :: \", addition)"
   ]
  },
  {
   "cell_type": "code",
   "execution_count": 4,
   "id": "4babefe1-e947-4c84-9780-37910098d22a",
   "metadata": {},
   "outputs": [
    {
     "name": "stdout",
     "output_type": "stream",
     "text": [
      "Area of the rectangle from given l and b is :: 276\n"
     ]
    }
   ],
   "source": [
    "# Program to calculate the area of the rectangle\n",
    "length = 23\n",
    "breadth = 12\n",
    "\n",
    "area = length*breadth\n",
    "print(\"Area of the rectangle from given l and b is ::\",area)"
   ]
  },
  {
   "cell_type": "code",
   "execution_count": 5,
   "id": "2cceb586-4f75-46ad-9826-d8a3741ed0f8",
   "metadata": {},
   "outputs": [
    {
     "name": "stdout",
     "output_type": "stream",
     "text": [
      "factorial of 5 is :: 120\n"
     ]
    }
   ],
   "source": [
    "# Program to find the factorial of the given number\n",
    "n = 5   # number to find the factorial of\n",
    "\n",
    "#Simple for loop approach\n",
    "result = 1\n",
    "for i in range(2, n+1):\n",
    "    result = result*i \n",
    "\n",
    "print(f\"factorial of {n} is :: {result}\")"
   ]
  },
  {
   "cell_type": "code",
   "execution_count": 6,
   "id": "6ee46b0a-dd7c-4cfc-8bdf-f82fbf1a0705",
   "metadata": {},
   "outputs": [
    {
     "name": "stdout",
     "output_type": "stream",
     "text": [
      "factorial of 5 is :: 120\n"
     ]
    }
   ],
   "source": [
    "# and simple shorthand if you understand \n",
    "def fact(num):\n",
    "    return 1 if (num==1 or num==0) else num*fact(num-1)\n",
    "\n",
    "res = fact(n)\n",
    "print(f\"factorial of {n} is :: {res}\")"
   ]
  },
  {
   "cell_type": "code",
   "execution_count": 7,
   "id": "be142ae1-b275-4dc1-b95b-d3e4e33861be",
   "metadata": {},
   "outputs": [
    {
     "name": "stdout",
     "output_type": "stream",
     "text": [
      "Given number is even\n"
     ]
    }
   ],
   "source": [
    "# Program to check whether a given number is even or odd.\n",
    "num = 12\n",
    "\n",
    "if num%2 == 0:\n",
    "    print(\"Given number is even\")\n",
    "else:\n",
    "    print(\"Given number is odd\")"
   ]
  },
  {
   "cell_type": "code",
   "execution_count": 13,
   "id": "8aeed8c6-a36b-4934-8ad2-72ddab5266c5",
   "metadata": {},
   "outputs": [
    {
     "name": "stdout",
     "output_type": "stream",
     "text": [
      "Integer is :: 4\n",
      "String is :: nk\n",
      "Float is :: 3.56\n",
      "Boolean is :: True\n"
     ]
    }
   ],
   "source": [
    "## Variables and Data Types:\n",
    "# Python program to create variables of different data types(integer, float, string, boolean) and print their values\n",
    "\"\"\"\n",
    "In Python, there is no need to declare any variable,\n",
    "you can directly assign any value to the variable,\n",
    "and Python will automatically understand the type of given variable,\n",
    "that's why it is called a dynamically typed language\n",
    "\"\"\"\n",
    "\n",
    "n = 4  # Integer\n",
    "print(\"Integer is ::\", n)\n",
    "\n",
    "c = 'nk' # String\n",
    "print(\"String is ::\", c)\n",
    "\n",
    "f = 3.56 # Float\n",
    "print(\"Float is ::\", f)\n",
    "\n",
    "b = True # Boolean\n",
    "print(\"Boolean is ::\",b)"
   ]
  },
  {
   "cell_type": "code",
   "execution_count": 12,
   "id": "7fcd1ceb-e9af-43cd-b87d-fee8184ec9e4",
   "metadata": {},
   "outputs": [
    {
     "name": "stdout",
     "output_type": "stream",
     "text": [
      "var1 after swapping ::  nk\n",
      "var2 after swapping ::  5\n"
     ]
    }
   ],
   "source": [
    "# Python program to swap the values of two variables\n",
    "\n",
    "# In Python swapping values of two variables is very easy.\n",
    "var1 = 5\n",
    "var2 = \"nk\"\n",
    "var1, var2 = var2, var1\n",
    "print(\"var1 after swapping :: \", var1)\n",
    "print(\"var2 after swapping :: \", var2)"
   ]
  },
  {
   "cell_type": "code",
   "execution_count": 15,
   "id": "c3f4226a-a665-4208-abb8-b5bb442769fe",
   "metadata": {},
   "outputs": [
    {
     "name": "stdout",
     "output_type": "stream",
     "text": [
      "Concatenated string ::  Aghabade\n"
     ]
    }
   ],
   "source": [
    "#Program to concatenate two strings\n",
    "str1 = 'A'\n",
    "str2 = 'ghabade'\n",
    "\n",
    "str3 = str1 + str2\n",
    "print(\"Concatenated string :: \", str3)"
   ]
  },
  {
   "cell_type": "code",
   "execution_count": 16,
   "id": "02a935fc-8a50-4dd3-bce5-5c69c3079987",
   "metadata": {},
   "outputs": [
    {
     "name": "stdout",
     "output_type": "stream",
     "text": [
      "Temprature in fahrenheit for 37 is :: 98.60000000000001\n"
     ]
    }
   ],
   "source": [
    "# Python program to convert the temperature to celsius to Fahrenheit\n",
    "# Formula to convert celsius to fahrenheit is f = cel *(9/5)+32\n",
    "\n",
    "cel_temp = 37\n",
    "fah_temp = (cel_temp *(9/5))+32\n",
    "print(f\"Temprature in fahrenheit for {cel_temp} is :: {fah_temp}\")"
   ]
  },
  {
   "cell_type": "code",
   "execution_count": 17,
   "id": "ca658d43-71b7-4602-8d63-bdfc0b5f1c94",
   "metadata": {},
   "outputs": [
    {
     "name": "stdout",
     "output_type": "stream",
     "text": [
      "Types of variables as follow :: \n",
      "var1 ::  <class 'int'>\n",
      "var2 ::  <class 'str'>\n",
      "var3 ::  <class 'float'>\n"
     ]
    }
   ],
   "source": [
    "# Python program to check the type of the variable\n",
    "var1 = 5\n",
    "var2 = \"nsk\"\n",
    "var3 = 3.45\n",
    "print(\"Types of variables as follow :: \")\n",
    "print(\"var1 :: \",type(var1))\n",
    "print(\"var2 :: \",type(var2))\n",
    "print(\"var3 :: \",type(var3))"
   ]
  },
  {
   "cell_type": "code",
   "execution_count": 18,
   "id": "1656f2be-6991-44cf-ae4e-55519ecac681",
   "metadata": {},
   "outputs": [
    {
     "name": "stdin",
     "output_type": "stream",
     "text": [
      "Enter your name ::  Aditya\n"
     ]
    },
    {
     "name": "stdout",
     "output_type": "stream",
     "text": [
      "Hi, Good Evening Aditya\n"
     ]
    }
   ],
   "source": [
    "# Basic Input/Output\n",
    "\n",
    "# Python program to take a name as input from the user and print the greeting message\n",
    "\n",
    "name = input (\"Enter your name :: \")\n",
    "print(\"Hi, Good Evening\",name)"
   ]
  },
  {
   "cell_type": "code",
   "execution_count": 20,
   "id": "6cc7008f-feb0-4d5b-836a-18739d8fa0ee",
   "metadata": {},
   "outputs": [
    {
     "name": "stdin",
     "output_type": "stream",
     "text": [
      "Enter number 1: 45\n",
      "Enter number 2: 7\n"
     ]
    },
    {
     "name": "stdout",
     "output_type": "stream",
     "text": [
      "\n",
      "-------------RESULT--------------\n",
      "Sum of the given numbers is :  52\n",
      "Difference of given numbers is :  38\n",
      "Product of given numbers is :  315\n",
      "Quotient of given numbers is :  6.428571428571429\n"
     ]
    }
   ],
   "source": [
    "# Python program to take two numbers as input from the user and print their sum, difference, product, and quotient\n",
    "\n",
    "num1 = int(input(\"Enter number 1:\"))\n",
    "num2 = int(input(\"Enter number 2:\"))\n",
    "\n",
    "print(\"\\n-------------RESULT--------------\")\n",
    "print(\"Sum of the given numbers is : \",num1 + num2)\n",
    "print(\"Difference of given numbers is : \", num1 - num2)\n",
    "print(\"Product of given numbers is : \", num1 * num2)\n",
    "print(\"Quotient of given numbers is : \",num1/num2)"
   ]
  },
  {
   "cell_type": "code",
   "execution_count": 22,
   "id": "93c69fa2-4a4f-40d5-9431-88c39d7e9224",
   "metadata": {},
   "outputs": [
    {
     "name": "stdin",
     "output_type": "stream",
     "text": [
      "Enter a sentence:  Hi my name is aditya ghabade I'm learning python development to enhance my skill\n"
     ]
    },
    {
     "name": "stdout",
     "output_type": "stream",
     "text": [
      "\n",
      " -------------------RESULT-------------------\n",
      "count by first Method: 24\n",
      "count by second method :  24\n"
     ]
    }
   ],
   "source": [
    "# Python program to take a sentence as input from the user and count the number if vowels in it\n",
    "\n",
    "vowels = 'aeiouAEIOU'\n",
    "sentence = input(\"Enter a sentence: \")\n",
    "count = 0\n",
    "print(\"\\n -------------------RESULT-------------------\")\n",
    "\n",
    "# First Method\n",
    "for ch in sentence:\n",
    "    if ch in vowels:\n",
    "        count += 1\n",
    "\n",
    "print(\"count by first Method:\",count)\n",
    "## Second Method\n",
    "count = 0\n",
    "\n",
    "## we will use count() function of python to count the number of types vowel occurs\n",
    "for vow in vowels:\n",
    "    count = count + sentence.count(vow)\n",
    "print(\"count by second method : \", count)"
   ]
  },
  {
   "cell_type": "code",
   "execution_count": 23,
   "id": "028cf3c8-1231-400c-9adc-8f33f43f2f59",
   "metadata": {},
   "outputs": [
    {
     "name": "stdin",
     "output_type": "stream",
     "text": [
      "Enter a number: -0\n"
     ]
    },
    {
     "name": "stdout",
     "output_type": "stream",
     "text": [
      "Given number is Zero\n"
     ]
    }
   ],
   "source": [
    "# Conditional statements (If, elif, else):\n",
    "\n",
    "# Python program to check whether a number entered by the user is positive, negative, or zero.\n",
    "\n",
    "num = int(input(\"Enter a number:\"))\n",
    "\n",
    "if num>0:\n",
    "    print(\"Given number is Positive\")\n",
    "elif num<0:\n",
    "    print(\"Givern number is Negative\")\n",
    "else:\n",
    "    print(\"Given number is Zero\")"
   ]
  },
  {
   "cell_type": "code",
   "execution_count": 24,
   "id": "4e6f74c1-3b55-4fca-82f0-e6b38053e0bb",
   "metadata": {},
   "outputs": [
    {
     "name": "stdin",
     "output_type": "stream",
     "text": [
      "Enter a year : 2028\n"
     ]
    },
    {
     "name": "stdout",
     "output_type": "stream",
     "text": [
      "Given year is a leap year.\n"
     ]
    }
   ],
   "source": [
    "# Python program to check whether a year entered by the user is a leap year ir not.\n",
    "\n",
    "## To check the leap year first check if it is multiple of 4 or 400 and not multiple of 100\n",
    "\n",
    "year = int(input(\"Enter a year :\"))\n",
    "\n",
    "if (year % 400 == 0) or (year % 100 != 0) and (year % 4 == 0):\n",
    "    print(\"Given year is a leap year.\")\n",
    "else:\n",
    "    print(\"Given year is not a leap year.\")"
   ]
  },
  {
   "cell_type": "code",
   "execution_count": 25,
   "id": "a7023126-2499-445a-8a71-804868ce316c",
   "metadata": {},
   "outputs": [
    {
     "name": "stdin",
     "output_type": "stream",
     "text": [
      "Enter the first number: 15\n",
      "Enter the second number: 48\n",
      "Enter the third number: 39\n"
     ]
    },
    {
     "name": "stdout",
     "output_type": "stream",
     "text": [
      "largest number is 48\n"
     ]
    }
   ],
   "source": [
    "# Python program to find the largest of three numbers entered by the user\n",
    "\n",
    "num1 = int(input(\"Enter the first number:\"))\n",
    "num2 = int(input(\"Enter the second number:\"))\n",
    "num3 = int(input(\"Enter the third number:\"))\n",
    "\n",
    "if num1 > num3 and num1 > num2:\n",
    "    print(f\"Largest number is {num1}\")\n",
    "elif num2 > num3 and num2 > num1:\n",
    "    print(f\"largest number is {num2}\")\n",
    "elif num3 > num1 and num3 > num2:\n",
    "    print(f\"largest number is {num3}\")\n",
    "\n",
    "else: \n",
    "    print(\"Sorry!\")\n",
    "\n",
    "# print(\"Largest number from given numbers is:\", )"
   ]
  },
  {
   "cell_type": "code",
   "execution_count": 26,
   "id": "ce9310dc-e94c-49cc-9614-019d255fd67c",
   "metadata": {},
   "outputs": [
    {
     "name": "stdin",
     "output_type": "stream",
     "text": [
      "Enter a character: t\n"
     ]
    },
    {
     "name": "stdout",
     "output_type": "stream",
     "text": [
      "\n",
      "-----------------RESULT-------------------\n",
      "Given character is a consonant\n"
     ]
    }
   ],
   "source": [
    "# Python program to check whether a character entered by the user is vowel or a consonent\n",
    "\n",
    "vowels = 'aeiouAEIOU'\n",
    "\n",
    "char = input(\"Enter a character:\")\n",
    "\n",
    "print(\"\\n-----------------RESULT-------------------\")\n",
    "\n",
    "\n",
    "if char in vowels:\n",
    "    print(\"Given character is a vowel\")\n",
    "else:\n",
    "    print(\"Given character is a consonant\")"
   ]
  },
  {
   "cell_type": "code",
   "execution_count": 27,
   "id": "5642900f-f666-4040-a8bd-40467ef548e7",
   "metadata": {},
   "outputs": [
    {
     "name": "stdin",
     "output_type": "stream",
     "text": [
      "Enter the marks if the student:  67.78\n"
     ]
    },
    {
     "name": "stdout",
     "output_type": "stream",
     "text": [
      "\n",
      "-------------------RESULT-----------------------\n",
      "\n",
      "First class\n"
     ]
    }
   ],
   "source": [
    "## Python program to determine the grade of a student based on their marks entered by the user\n",
    "\n",
    "marks= float(input(\"Enter the marks if the student: \"))\n",
    "\n",
    "print(\"\\n-------------------RESULT-----------------------\\n\")\n",
    "\n",
    "\n",
    "if marks>= 80 and marks <=100:\n",
    "    print(\"First class with Distinction.\")\n",
    "\n",
    "elif marks>= 60 and marks <=80:\n",
    "    print(\"First class\")\n",
    "\n",
    "elif marks >=40 and marks <=60:\n",
    "    print(\"Second class\")\n",
    "\n",
    "else:\n",
    "    print(\"All the best!\")"
   ]
  },
  {
   "cell_type": "code",
   "execution_count": null,
   "id": "3a32b57c-a484-4f2a-b27a-57ffb75541dc",
   "metadata": {},
   "outputs": [],
   "source": []
  }
 ],
 "metadata": {
  "kernelspec": {
   "display_name": "Python 3 (ipykernel)",
   "language": "python",
   "name": "python3"
  },
  "language_info": {
   "codemirror_mode": {
    "name": "ipython",
    "version": 3
   },
   "file_extension": ".py",
   "mimetype": "text/x-python",
   "name": "python",
   "nbconvert_exporter": "python",
   "pygments_lexer": "ipython3",
   "version": "3.11.5"
  }
 },
 "nbformat": 4,
 "nbformat_minor": 5
}

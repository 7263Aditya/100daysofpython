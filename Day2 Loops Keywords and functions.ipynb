{
 "cells": [
  {
   "cell_type": "code",
   "execution_count": 1,
   "id": "38650a72-8247-4fda-b1fb-9330ccec28ed",
   "metadata": {},
   "outputs": [
    {
     "name": "stdout",
     "output_type": "stream",
     "text": [
      "1\n",
      "2\n",
      "3\n",
      "4\n",
      "5\n",
      "6\n",
      "7\n",
      "8\n",
      "9\n",
      "10\n"
     ]
    }
   ],
   "source": [
    "## Practicing python from the basics\n",
    "\n",
    "# LOOPs for & while:\n",
    "\n",
    "## Python program to print numbers from 1 to 10 using a for loop\n",
    "\n",
    "for i in range(1,11):\n",
    "    print(i)"
   ]
  },
  {
   "cell_type": "code",
   "execution_count": 3,
   "id": "95096569-86a1-40e3-9d1b-d555c24b2390",
   "metadata": {},
   "outputs": [
    {
     "name": "stdout",
     "output_type": "stream",
     "text": [
      "120\n"
     ]
    }
   ],
   "source": [
    "## Python program to find the factorial of a number using a while loop\n",
    "\n",
    "num = 5 \n",
    "\n",
    "temp = num\n",
    "res = 1\n",
    "\n",
    "while num/temp !=num:\n",
    "    res = res *temp\n",
    "    temp = temp - 1\n",
    "\n",
    "print(res)"
   ]
  },
  {
   "cell_type": "code",
   "execution_count": 1,
   "id": "a184c998-c206-4701-a95b-8ec64984d6ca",
   "metadata": {},
   "outputs": [
    {
     "name": "stdin",
     "output_type": "stream",
     "text": [
      "Enter the number to print Fib Series :  20\n"
     ]
    },
    {
     "name": "stdout",
     "output_type": "stream",
     "text": [
      "0\n",
      "1\n",
      "1\n",
      "2\n",
      "3\n",
      "5\n",
      "8\n",
      "13\n",
      "21\n",
      "34\n",
      "55\n",
      "89\n",
      "144\n",
      "233\n",
      "377\n",
      "610\n",
      "987\n",
      "1597\n",
      "2584\n",
      "4181\n"
     ]
    }
   ],
   "source": [
    "## Python program to print Fibonacci series up to a specified number of terms using for loop\n",
    "\n",
    "num = int(input(\"Enter the number to print Fib Series : \"))\n",
    "\n",
    "n1, n2 =0, 1\n",
    "\n",
    "for n in range(num):\n",
    "    print(n1)\n",
    "    next_v = n1+n2\n",
    "    n1, n2 = n2, next_v"
   ]
  },
  {
   "cell_type": "code",
   "execution_count": 6,
   "id": "bfaf99fc-0f9c-4a53-8085-0b95adaa1cca",
   "metadata": {},
   "outputs": [
    {
     "name": "stdin",
     "output_type": "stream",
     "text": [
      "Enter the number to check if it is prime or not:  53\n"
     ]
    },
    {
     "name": "stdout",
     "output_type": "stream",
     "text": [
      "\n",
      "-------------------RESULT----------------------\n",
      "Given number is a prime number\n"
     ]
    }
   ],
   "source": [
    "## Python program to check whether a number entered by the user is prime or not using a while loop\n",
    "\n",
    "num = int(input(\"Enter the number to check if it is prime or not: \"))\n",
    "\n",
    "print(\"\\n-------------------RESULT----------------------\")\n",
    "flag = False\n",
    "n = 2\n",
    "while n<=num // 2:\n",
    "    if num%n == 0:\n",
    "        flag = True\n",
    "    n += 1\n",
    "\n",
    "if flag:\n",
    "    print(\"Given number is not a prime number\")\n",
    "else:\n",
    "    print(\"Given number is a prime number\")"
   ]
  },
  {
   "cell_type": "code",
   "execution_count": 16,
   "id": "adee56e1-1db5-43d3-b6f3-ad885f195d99",
   "metadata": {},
   "outputs": [
    {
     "name": "stdin",
     "output_type": "stream",
     "text": [
      "Enter a number to print the multiplication table:  12\n"
     ]
    },
    {
     "name": "stdout",
     "output_type": "stream",
     "text": [
      "\n",
      "----------------------RESULT----------------------------------\n",
      "\n",
      "12 x 1 = 12\n",
      "12 x 2 = 24\n",
      "12 x 3 = 36\n",
      "12 x 4 = 48\n",
      "12 x 5 = 60\n",
      "12 x 6 = 72\n",
      "12 x 7 = 84\n",
      "12 x 8 = 96\n",
      "12 x 9 = 108\n",
      "12 x 10 = 120\n"
     ]
    }
   ],
   "source": [
    "## Python program to print a multiplication table of a number entered by the user using for loop\n",
    "\n",
    "num = int(input(\"Enter a number to print the multiplication table: \"))\n",
    "print(\"\\n----------------------RESULT----------------------------------\\n\")\n",
    "\n",
    "for n in range(1,11):\n",
    "    print(f\"{num} x {n} = {num*n}\")"
   ]
  },
  {
   "cell_type": "code",
   "execution_count": 12,
   "id": "937c7c01-bee3-4004-ab18-05805fd98699",
   "metadata": {},
   "outputs": [
    {
     "name": "stdout",
     "output_type": "stream",
     "text": [
      "Sum of all even numbers between 1 to 50 with condition is : 210\n"
     ]
    }
   ],
   "source": [
    "## Break and Continue Statements:\n",
    "\n",
    "# python program to find the sum of all even numbers between 1 to 50, but stop the loop if sum exceeds 200\n",
    "\n",
    "even_sum = 0\n",
    "for num in range(1, 50):\n",
    "    if even_sum >200:\n",
    "        break\n",
    "    if num % 2 == 0:\n",
    "        even_sum += num\n",
    "\n",
    "print(\"Sum of all even numbers between 1 to 50 with condition is :\", even_sum)"
   ]
  },
  {
   "cell_type": "code",
   "execution_count": 14,
   "id": "100c1557-75c7-429d-b340-176783922d48",
   "metadata": {},
   "outputs": [
    {
     "name": "stdout",
     "output_type": "stream",
     "text": [
      "3\n",
      "5\n",
      "7\n",
      "11\n",
      "13\n",
      "17\n",
      "19\n",
      "23\n",
      "29\n",
      "31\n",
      "37\n",
      "41\n",
      "43\n",
      "47\n",
      "53\n",
      "59\n",
      "61\n",
      "67\n",
      "71\n",
      "73\n",
      "79\n",
      "83\n",
      "89\n",
      "97\n"
     ]
    }
   ],
   "source": [
    "## Python program to print all the prime numbers between 1 to 100 skipping the even numbers:\n",
    "\n",
    "# Result\n",
    "\n",
    "for num in range(2, 100):\n",
    "    flag = False\n",
    "    if num % 2 == 0:\n",
    "        continue\n",
    "\n",
    "    for n in range(2, num//2):\n",
    "        if num % n == 0:\n",
    "            flag = True\n",
    "\n",
    "    if not flag:\n",
    "        print(num)"
   ]
  },
  {
   "cell_type": "code",
   "execution_count": 15,
   "id": "fbbe4a84-a6c5-44be-83a8-452c7699a0dd",
   "metadata": {},
   "outputs": [
    {
     "name": "stdout",
     "output_type": "stream",
     "text": [
      "3\n",
      "9\n",
      "15\n",
      "21\n",
      "27\n",
      "33\n",
      "39\n",
      "45\n",
      "51\n",
      "57\n"
     ]
    }
   ],
   "source": [
    "## Python program to find the first 10 numbers divisible by 3 but skip those who divisible by 6\n",
    "\n",
    "\n",
    "count= 0\n",
    "n = 1\n",
    "while n>=1:\n",
    "    if n%3==0 and n%6 !=0:\n",
    "        print(n)\n",
    "        count += 1\n",
    "    if count == 10:\n",
    "        break\n",
    "    n += 1"
   ]
  },
  {
   "cell_type": "code",
   "execution_count": 2,
   "id": "411c379b-2a33-4b41-ba85-10d4afbc100d",
   "metadata": {},
   "outputs": [
    {
     "name": "stdin",
     "output_type": "stream",
     "text": [
      "Enter the number: 21\n"
     ]
    },
    {
     "name": "stdout",
     "output_type": "stream",
     "text": [
      "factorial of a given number is :\n",
      "51090942171709440000\n"
     ]
    }
   ],
   "source": [
    "## Python Program to find the factorial of a number entered by the user, but if the number is negative, display an error message and stop\n",
    "\n",
    "\n",
    "num =int(input(\"Enter the number:\"))\n",
    "\n",
    "if num<0:\n",
    "    print(\"Please enter the positive number!\")\n",
    "\n",
    "else:\n",
    "    print(\"factorial of a given number is :\")\n",
    "    res = 1\n",
    "\n",
    "    for n in range(2, num+1):\n",
    "        res = res*n\n",
    "    \n",
    "    print(res)"
   ]
  },
  {
   "cell_type": "code",
   "execution_count": 8,
   "id": "5f4671d0-212d-4e7d-a832-365397039dcb",
   "metadata": {},
   "outputs": [
    {
     "name": "stdout",
     "output_type": "stream",
     "text": [
      "1\n",
      "4\n",
      "9\n",
      "16\n",
      "25\n",
      "36\n",
      "49\n"
     ]
    }
   ],
   "source": [
    "# Python program to calculate the square of numbers from 1 to 10 but if the square is greater than 50 skip it\n",
    "for n in range(1, 10):\n",
    "    square = n**2\n",
    "    if square > 50:\n",
    "        continue\n",
    "    else:\n",
    "        print(square)"
   ]
  },
  {
   "cell_type": "code",
   "execution_count": 9,
   "id": "0ec29608-f341-4c65-b11e-7ac4e9fc054d",
   "metadata": {},
   "outputs": [
    {
     "name": "stdout",
     "output_type": "stream",
     "text": [
      "Area of the circle for given radius is 28.26\n"
     ]
    }
   ],
   "source": [
    "## Writing Functions, passing Arguments, returning values:\n",
    "\n",
    "# Python program function to calculate the area of circle given it's radius\n",
    "\n",
    "def area_of_circle(r):\n",
    "    pi = 3.14\n",
    "    return pi*(r**2)\n",
    "\n",
    "r = 3\n",
    "area = area_of_circle(r)\n",
    "print(f\"Area of the circle for given radius is {area}\")"
   ]
  },
  {
   "cell_type": "code",
   "execution_count": 11,
   "id": "5c5af75d-ce5d-4556-a3cd-ce55ad8e295d",
   "metadata": {},
   "outputs": [
    {
     "name": "stdout",
     "output_type": "stream",
     "text": [
      "Given number is even\n"
     ]
    }
   ],
   "source": [
    "## Python program to check whether a number is even or odd\n",
    "def even_odd(num):\n",
    "    if num%2==0:\n",
    "        return \"Given number is even\"\n",
    "    else:\n",
    "        return \"Given number is odd\"\n",
    "\n",
    "num = 6\n",
    "res = even_odd(num)\n",
    "print(res)"
   ]
  },
  {
   "cell_type": "code",
   "execution_count": 13,
   "id": "a3ade8cf-f9cb-421d-a8f1-4aaf9b6e43a5",
   "metadata": {},
   "outputs": [
    {
     "name": "stdout",
     "output_type": "stream",
     "text": [
      "Given number is a prime number\n"
     ]
    }
   ],
   "source": [
    "# Python program to check whether a number is prime or not\n",
    "\n",
    "def prime(num):\n",
    "    flag = False\n",
    "    for n in range (2,(num//2)+1):\n",
    "        if num % n ==0:\n",
    "            flag = True\n",
    "            break\n",
    "    if flag:\n",
    "        return \"Given number is not a prime number\"\n",
    "    else:\n",
    "        return \"Given number is a prime number\"\n",
    "\n",
    "num = 7\n",
    "res = prime(num)\n",
    "print(res)"
   ]
  },
  {
   "cell_type": "code",
   "execution_count": 14,
   "id": "c5887c52-8fa0-4082-9936-2d4e48186679",
   "metadata": {},
   "outputs": [
    {
     "name": "stdin",
     "output_type": "stream",
     "text": [
      "Enter a string:  Hi my name is Aditya Ghabade I'm leaning a python development\n"
     ]
    },
    {
     "name": "stdout",
     "output_type": "stream",
     "text": [
      "Reversed String fpr Hi my name is Aditya Ghabade I'm leaning a python development is tnempoleved nohtyp a gninael m'I edabahG aytidA si eman ym iH\n"
     ]
    }
   ],
   "source": [
    "## Python program to reverse a given string \n",
    "\n",
    "def rev_string(g_str):\n",
    "    return g_str[::-1]\n",
    "\n",
    "\n",
    "g_str = input(\"Enter a string: \")\n",
    "rev_str = rev_string(g_str)\n",
    "print(f\"Reversed String fpr {g_str} is {rev_str}\")"
   ]
  },
  {
   "cell_type": "code",
   "execution_count": 16,
   "id": "140eacaf-6cbb-4f77-8369-bc9d413d26da",
   "metadata": {},
   "outputs": [
    {
     "name": "stdin",
     "output_type": "stream",
     "text": [
      "Enter a number : 15\n"
     ]
    },
    {
     "name": "stdout",
     "output_type": "stream",
     "text": [
      "The factorial of the 15 is 1307674368000\n"
     ]
    }
   ],
   "source": [
    "## Calculate the factorial of a number\n",
    "\n",
    "def fact(num):\n",
    "    if num == 0:\n",
    "        return 1\n",
    "    return num*fact(num-1)\n",
    "\n",
    "num = int(input(\"Enter a number :\"))\n",
    "res = fact(num)\n",
    "print(f\"The factorial of the {num} is {res}\")"
   ]
  },
  {
   "cell_type": "code",
   "execution_count": null,
   "id": "8cbfea44-7016-4d27-92c7-a97fa13c25e7",
   "metadata": {},
   "outputs": [],
   "source": []
  }
 ],
 "metadata": {
  "kernelspec": {
   "display_name": "Python 3 (ipykernel)",
   "language": "python",
   "name": "python3"
  },
  "language_info": {
   "codemirror_mode": {
    "name": "ipython",
    "version": 3
   },
   "file_extension": ".py",
   "mimetype": "text/x-python",
   "name": "python",
   "nbconvert_exporter": "python",
   "pygments_lexer": "ipython3",
   "version": "3.11.5"
  }
 },
 "nbformat": 4,
 "nbformat_minor": 5
}
